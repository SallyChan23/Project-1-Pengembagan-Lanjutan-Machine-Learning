{
  "nbformat": 4,
  "nbformat_minor": 0,
  "metadata": {
    "colab": {
      "provenance": [],
      "gpuType": "T4"
    },
    "kernelspec": {
      "name": "python3",
      "display_name": "Python 3"
    },
    "language_info": {
      "name": "python"
    },
    "accelerator": "GPU"
  },
  "cells": [
    {
      "cell_type": "code",
      "execution_count": 12,
      "metadata": {
        "colab": {
          "base_uri": "https://localhost:8080/"
        },
        "id": "jZyNOwhpKZze",
        "outputId": "faca42a7-2ed5-4e0f-e289-75f545a20b14"
      },
      "outputs": [
        {
          "output_type": "stream",
          "name": "stdout",
          "text": [
            "Collecting google-play-scraper\n",
            "  Downloading google_play_scraper-1.2.7-py3-none-any.whl.metadata (50 kB)\n",
            "\u001b[?25l     \u001b[90m━━━━━━━━━━━━━━━━━━━━━━━━━━━━━━━━━━━━━━━━\u001b[0m \u001b[32m0.0/50.2 kB\u001b[0m \u001b[31m?\u001b[0m eta \u001b[36m-:--:--\u001b[0m\r\u001b[2K     \u001b[90m━━━━━━━━━━━━━━━━━━━━━━━━━━━━━━━━━━━━━━━━\u001b[0m \u001b[32m50.2/50.2 kB\u001b[0m \u001b[31m2.1 MB/s\u001b[0m eta \u001b[36m0:00:00\u001b[0m\n",
            "\u001b[?25hDownloading google_play_scraper-1.2.7-py3-none-any.whl (28 kB)\n",
            "Installing collected packages: google-play-scraper\n",
            "Successfully installed google-play-scraper-1.2.7\n",
            "Requirement already satisfied: nltk in /usr/local/lib/python3.11/dist-packages (3.9.1)\n",
            "Collecting Sastrawi\n",
            "  Downloading Sastrawi-1.0.1-py2.py3-none-any.whl.metadata (909 bytes)\n",
            "Requirement already satisfied: click in /usr/local/lib/python3.11/dist-packages (from nltk) (8.1.8)\n",
            "Requirement already satisfied: joblib in /usr/local/lib/python3.11/dist-packages (from nltk) (1.4.2)\n",
            "Requirement already satisfied: regex>=2021.8.3 in /usr/local/lib/python3.11/dist-packages (from nltk) (2024.11.6)\n",
            "Requirement already satisfied: tqdm in /usr/local/lib/python3.11/dist-packages (from nltk) (4.67.1)\n",
            "Downloading Sastrawi-1.0.1-py2.py3-none-any.whl (209 kB)\n",
            "\u001b[2K   \u001b[90m━━━━━━━━━━━━━━━━━━━━━━━━━━━━━━━━━━━━━━━━\u001b[0m \u001b[32m209.7/209.7 kB\u001b[0m \u001b[31m3.6 MB/s\u001b[0m eta \u001b[36m0:00:00\u001b[0m\n",
            "\u001b[?25hInstalling collected packages: Sastrawi\n",
            "Successfully installed Sastrawi-1.0.1\n",
            "Requirement already satisfied: scikit-learn in /usr/local/lib/python3.11/dist-packages (1.6.1)\n",
            "Requirement already satisfied: numpy>=1.19.5 in /usr/local/lib/python3.11/dist-packages (from scikit-learn) (2.0.2)\n",
            "Requirement already satisfied: scipy>=1.6.0 in /usr/local/lib/python3.11/dist-packages (from scikit-learn) (1.14.1)\n",
            "Requirement already satisfied: joblib>=1.2.0 in /usr/local/lib/python3.11/dist-packages (from scikit-learn) (1.4.2)\n",
            "Requirement already satisfied: threadpoolctl>=3.1.0 in /usr/local/lib/python3.11/dist-packages (from scikit-learn) (3.6.0)\n"
          ]
        }
      ],
      "source": [
        "# Install library yang ingin digunakan\n",
        "!pip install google-play-scraper\n",
        "!pip install nltk Sastrawi # Library untuk bahasa Indonesia\n",
        "!pip install scikit-learn"
      ]
    },
    {
      "cell_type": "code",
      "source": [
        "# Import Library\n",
        "from google_play_scraper import reviews\n",
        "from google_play_scraper import Sort\n",
        "import pandas as pd\n",
        "import re\n",
        "import string\n",
        "import nltk\n",
        "import numpy as np\n",
        "from sklearn.svm import SVC\n",
        "from nltk.corpus import stopwords\n",
        "from Sastrawi.Stemmer.StemmerFactory import StemmerFactory\n",
        "from sklearn.feature_extraction.text import TfidfVectorizer\n",
        "from sklearn.model_selection import train_test_split\n",
        "from sklearn.preprocessing import LabelEncoder\n",
        "from sklearn.metrics import accuracy_score, classification_report"
      ],
      "metadata": {
        "id": "xrZZAzcHOG-t"
      },
      "execution_count": 18,
      "outputs": []
    },
    {
      "cell_type": "code",
      "source": [
        "# Download data yang dibutuhkan\n",
        "nltk.download('stopwords')"
      ],
      "metadata": {
        "colab": {
          "base_uri": "https://localhost:8080/"
        },
        "id": "-RA344LidKr6",
        "outputId": "49032352-dae6-4bb4-a1d2-52d43afc8fa9"
      },
      "execution_count": 7,
      "outputs": [
        {
          "output_type": "stream",
          "name": "stderr",
          "text": [
            "[nltk_data] Downloading package stopwords to /root/nltk_data...\n",
            "[nltk_data]   Unzipping corpora/stopwords.zip.\n"
          ]
        },
        {
          "output_type": "execute_result",
          "data": {
            "text/plain": [
              "True"
            ]
          },
          "metadata": {},
          "execution_count": 7
        }
      ]
    },
    {
      "cell_type": "code",
      "source": [
        "# Scrapping Data\n",
        "app_id = \"com.twitter.android\"\n",
        "result, _ = reviews(\n",
        "    app_id,\n",
        "    lang='id',\n",
        "    country='id',\n",
        "    count=10000,\n",
        "    sort=Sort.NEWEST\n",
        ")\n",
        "df = pd.DataFrame(result)[['content', 'score']]\n",
        "df.rename(columns={'content': 'review', 'score': 'sentiment'}, inplace=True)\n",
        "\n",
        "def label_sentiment(score):\n",
        "    if score >= 4:\n",
        "        return \"positif\"\n",
        "    elif score == 3:\n",
        "        return \"netral\"\n",
        "    else:\n",
        "        return \"negatif\"\n",
        "df['sentiment'] = df['sentiment'].apply(label_sentiment)\n",
        "\n",
        "df.to_csv(\"playstore_reviews.csv\", index=False)\n",
        "print(f\"Dataset disimpan sebagai playstore_reviews.csv dengan {len(df)} data.\")\n",
        "\n",
        "print(\"\\nDistribusi Sentimen:\")\n",
        "print(df['sentiment'].value_counts())"
      ],
      "metadata": {
        "colab": {
          "base_uri": "https://localhost:8080/"
        },
        "id": "tkLpGHtDbBx_",
        "outputId": "b7e3f02f-b957-4b0a-b1a5-7fec9231283b"
      },
      "execution_count": 8,
      "outputs": [
        {
          "output_type": "stream",
          "name": "stdout",
          "text": [
            "Dataset disimpan sebagai playstore_reviews.csv dengan 10000 data.\n",
            "\n",
            "Distribusi Sentimen:\n",
            "sentiment\n",
            "positif    5207\n",
            "negatif    4265\n",
            "netral      528\n",
            "Name: count, dtype: int64\n"
          ]
        }
      ]
    },
    {
      "cell_type": "code",
      "source": [
        "# Load Dataset\n",
        "df = pd.read_csv(\"playstore_reviews.csv\")"
      ],
      "metadata": {
        "id": "y4bEdiMbdN_S"
      },
      "execution_count": 9,
      "outputs": []
    },
    {
      "cell_type": "code",
      "source": [
        "print(df.head())"
      ],
      "metadata": {
        "colab": {
          "base_uri": "https://localhost:8080/"
        },
        "id": "3fDwTZYVdaRP",
        "outputId": "bd97c988-0383-4f8b-8129-090408fd94c4"
      },
      "execution_count": 10,
      "outputs": [
        {
          "output_type": "stream",
          "name": "stdout",
          "text": [
            "                                              review sentiment\n",
            "0              kenapa tdk bisa login akun yaa??🤷🏻‍♀️   negatif\n",
            "1                           hilang lah semua progres   negatif\n",
            "2  Aplikasi sangat Baik, banyak Pengetahuan yang ...   positif\n",
            "3                      sangat bagus dan mudah sekali   positif\n",
            "4                                              anjay   positif\n"
          ]
        }
      ]
    },
    {
      "cell_type": "code",
      "source": [
        "factory = StemmerFactory()\n",
        "stemmer = factory.create_stemmer()\n",
        "stop_words = set(stopwords.words('indonesian'))\n",
        "\n",
        "# Untuk membersihkan text (tanda baca, mengubah menjadi semua nya menjadi huruf kecil, dll)\n",
        "\n",
        "def clean_text(text):\n",
        "    if isinstance(text, str):\n",
        "        text = text.lower()\n",
        "        text = re.sub(r'\\d+', '', text)\n",
        "        text = text.translate(str.maketrans(\"\", \"\", string.punctuation))\n",
        "        text = re.sub(r'\\s+', ' ', text).strip()\n",
        "        words = text.split()\n",
        "        words = [word for word in words if word not in stop_words]\n",
        "        words = [stemmer.stem(word) for word in words]\n",
        "        return \" \".join(words)\n",
        "    return \"\"\n",
        "df[\"clean_review\"] = df[\"review\"].apply(clean_text)"
      ],
      "metadata": {
        "id": "FJdLpYQHdotQ"
      },
      "execution_count": 11,
      "outputs": []
    },
    {
      "cell_type": "code",
      "source": [
        "df.to_csv(\"playstore_reviews_cleaned.csv\", index=False)\n",
        "print(\"Dataset disimpan sebagai playstore_reviews_cleaned.csv.\")"
      ],
      "metadata": {
        "colab": {
          "base_uri": "https://localhost:8080/"
        },
        "id": "njjfm9l_hIwZ",
        "outputId": "82aeaa51-cd3e-48c9-b06b-a44c8eca466b"
      },
      "execution_count": 12,
      "outputs": [
        {
          "output_type": "stream",
          "name": "stdout",
          "text": [
            "Dataset disimpan sebagai playstore_reviews_cleaned.csv.\n"
          ]
        }
      ]
    },
    {
      "cell_type": "code",
      "source": [
        "# Load Dataset setelah clearing\n",
        "df = pd.read_csv(\"playstore_reviews_cleaned.csv\")\n",
        "print(df[[\"review\", \"clean_review\", \"sentiment\"]].head())"
      ],
      "metadata": {
        "id": "DAMneP97iJ1z",
        "colab": {
          "base_uri": "https://localhost:8080/"
        },
        "outputId": "f841affc-8e55-4d0e-8e6b-c170b9e0479d"
      },
      "execution_count": 13,
      "outputs": [
        {
          "output_type": "stream",
          "name": "stdout",
          "text": [
            "                                              review  \\\n",
            "0              kenapa tdk bisa login akun yaa??🤷🏻‍♀️   \n",
            "1                           hilang lah semua progres   \n",
            "2  Aplikasi sangat Baik, banyak Pengetahuan yang ...   \n",
            "3                      sangat bagus dan mudah sekali   \n",
            "4                                              anjay   \n",
            "\n",
            "                                        clean_review sentiment  \n",
            "0                                 tdk login akun yaa   negatif  \n",
            "1                                     hilang progres   negatif  \n",
            "2  aplikasi tahu bagi aplikasi ai grokai integras...   positif  \n",
            "3                                        bagus mudah   positif  \n",
            "4                                              anjay   positif  \n"
          ]
        }
      ]
    },
    {
      "cell_type": "code",
      "source": [
        "print(df[\"clean_review\"].isna().sum())"
      ],
      "metadata": {
        "colab": {
          "base_uri": "https://localhost:8080/"
        },
        "id": "SJaZpIJBi2w3",
        "outputId": "191fe31b-fba1-4cd6-e51b-39a5780b765b"
      },
      "execution_count": 14,
      "outputs": [
        {
          "output_type": "stream",
          "name": "stdout",
          "text": [
            "339\n"
          ]
        }
      ]
    },
    {
      "cell_type": "markdown",
      "source": [
        "Insight:\n",
        "* Terdapat missing value sebanyak 339, maka setelah itu kita harus menghapus missing value tersebut di tahap selanjutnya sebelum masuk ke ekstraksi"
      ],
      "metadata": {
        "id": "Dkz_n2SWjjtv"
      }
    },
    {
      "cell_type": "code",
      "source": [
        "# Menghapus Missing Value\n",
        "df = df.dropna(subset=[\"clean_review\"])\n",
        "df = df[df[\"clean_review\"].str.strip() != \"\"]\n",
        "print(df[\"clean_review\"].isna().sum())"
      ],
      "metadata": {
        "colab": {
          "base_uri": "https://localhost:8080/"
        },
        "id": "8Ik6LNrYi6Vo",
        "outputId": "a3cb0903-6b6d-4abd-a19e-5d38f1f3f762"
      },
      "execution_count": 15,
      "outputs": [
        {
          "output_type": "stream",
          "name": "stdout",
          "text": [
            "0\n"
          ]
        }
      ]
    },
    {
      "cell_type": "code",
      "source": [
        "df.to_csv(\"playstore_reviews_clearing_missing_value.csv\", index=False)"
      ],
      "metadata": {
        "id": "i6RZm07yYxuM"
      },
      "execution_count": 16,
      "outputs": []
    },
    {
      "cell_type": "code",
      "source": [
        "# Proses Ekstraksi Fitur Dengan TF-IDF\n",
        "df = pd.read_csv(\"playstore_reviews_clearing_missing_value.csv\")\n",
        "df[\"clean_review\"] = df[\"clean_review\"].astype(str)\n",
        "\n",
        "tfidf = TfidfVectorizer(max_features=5000)\n",
        "X = tfidf.fit_transform(df[\"clean_review\"])\n",
        "X_df = pd.DataFrame(X.toarray(), columns=tfidf.get_feature_names_out())\n",
        "X_df[\"sentiment\"] = df[\"sentiment\"].values"
      ],
      "metadata": {
        "id": "zS2I4qp8iXvI"
      },
      "execution_count": 20,
      "outputs": []
    },
    {
      "cell_type": "code",
      "source": [
        "X_df.to_csv(\"playstore_reviews_tfidf.csv\", index=False)\n",
        "print(\"Ekstraksi fitur selesai!\")\n",
        "print(X_df.head())"
      ],
      "metadata": {
        "colab": {
          "base_uri": "https://localhost:8080/"
        },
        "id": "11NJq9dYjN4Y",
        "outputId": "686f938d-32f5-45a6-ad09-ce19664228c9"
      },
      "execution_count": 21,
      "outputs": [
        {
          "output_type": "stream",
          "name": "stdout",
          "text": [
            "Ekstraksi fitur selesai!\n",
            "   aangat  abah  abal  abas  abdet  abdete  abdullah  abglokal  abgus  abiez  \\\n",
            "0     0.0   0.0   0.0   0.0    0.0     0.0       0.0       0.0    0.0    0.0   \n",
            "1     0.0   0.0   0.0   0.0    0.0     0.0       0.0       0.0    0.0    0.0   \n",
            "2     0.0   0.0   0.0   0.0    0.0     0.0       0.0       0.0    0.0    0.0   \n",
            "3     0.0   0.0   0.0   0.0    0.0     0.0       0.0       0.0    0.0    0.0   \n",
            "4     0.0   0.0   0.0   0.0    0.0     0.0       0.0       0.0    0.0    0.0   \n",
            "\n",
            "   ...  yudah  yuhuuuu  yup  yuppie  yutub  ywdh   yy  zaman  zelidraw  \\\n",
            "0  ...    0.0      0.0  0.0     0.0    0.0   0.0  0.0    0.0       0.0   \n",
            "1  ...    0.0      0.0  0.0     0.0    0.0   0.0  0.0    0.0       0.0   \n",
            "2  ...    0.0      0.0  0.0     0.0    0.0   0.0  0.0    0.0       0.0   \n",
            "3  ...    0.0      0.0  0.0     0.0    0.0   0.0  0.0    0.0       0.0   \n",
            "4  ...    0.0      0.0  0.0     0.0    0.0   0.0  0.0    0.0       0.0   \n",
            "\n",
            "   sentiment  \n",
            "0    negatif  \n",
            "1    negatif  \n",
            "2    positif  \n",
            "3    positif  \n",
            "4    positif  \n",
            "\n",
            "[5 rows x 5001 columns]\n"
          ]
        }
      ]
    },
    {
      "cell_type": "code",
      "source": [
        "df = pd.read_csv(\"playstore_reviews_tfidf.csv\")"
      ],
      "metadata": {
        "id": "C38wMaOBbj0s"
      },
      "execution_count": 10,
      "outputs": []
    },
    {
      "cell_type": "code",
      "source": [
        "df = df[df['sentiment'].isin(['positif', 'negatif'])]\n",
        "le = LabelEncoder()\n",
        "df['sentiment'] = le.fit_transform(df['sentiment'])"
      ],
      "metadata": {
        "colab": {
          "base_uri": "https://localhost:8080/"
        },
        "id": "x7qeXD1qAKit",
        "outputId": "b0468bdb-bf5d-4410-b98f-62e3a416d19d"
      },
      "execution_count": 17,
      "outputs": [
        {
          "output_type": "stream",
          "name": "stderr",
          "text": [
            "<ipython-input-17-39f6fc015221>:3: SettingWithCopyWarning: \n",
            "A value is trying to be set on a copy of a slice from a DataFrame.\n",
            "Try using .loc[row_indexer,col_indexer] = value instead\n",
            "\n",
            "See the caveats in the documentation: https://pandas.pydata.org/pandas-docs/stable/user_guide/indexing.html#returning-a-view-versus-a-copy\n",
            "  df['sentiment'] = le.fit_transform(df['sentiment'])\n"
          ]
        }
      ]
    },
    {
      "cell_type": "code",
      "source": [
        "X = df.drop(columns=['sentiment'])\n",
        "y = df['sentiment']\n",
        "X_train, X_test, y_train, y_test = train_test_split(X, y, test_size=0.2, random_state=42, stratify=y)"
      ],
      "metadata": {
        "id": "JHV14a9XFcYh"
      },
      "execution_count": 7,
      "outputs": []
    },
    {
      "cell_type": "code",
      "source": [
        "svm = SVC(kernel='linear', C=1)\n",
        "svm.fit(X_train, y_train)\n",
        "y_pred = svm.predict(X_test)"
      ],
      "metadata": {
        "id": "J9jD2NzbEWR1"
      },
      "execution_count": 8,
      "outputs": []
    },
    {
      "cell_type": "code",
      "source": [
        "print(\"Accuracy SVM:\", accuracy_score(y_test, y_pred) * 100, \"%\")\n",
        "print(\"\\nClassification Report:\\n\", classification_report(y_test, y_pred, target_names=le.classes_))"
      ],
      "metadata": {
        "colab": {
          "base_uri": "https://localhost:8080/"
        },
        "id": "bo9Jm2PDEhUQ",
        "outputId": "02a8f1b9-c5e3-4166-90a6-e082f4429db4"
      },
      "execution_count": 19,
      "outputs": [
        {
          "output_type": "stream",
          "name": "stdout",
          "text": [
            "Accuracy SVM: 87.63676148796499 %\n",
            "\n",
            "Classification Report:\n",
            "               precision    recall  f1-score   support\n",
            "\n",
            "     negatif       0.85      0.88      0.87       846\n",
            "     positif       0.90      0.87      0.88       982\n",
            "\n",
            "    accuracy                           0.88      1828\n",
            "   macro avg       0.88      0.88      0.88      1828\n",
            "weighted avg       0.88      0.88      0.88      1828\n",
            "\n"
          ]
        }
      ]
    },
    {
      "cell_type": "markdown",
      "source": [
        "Conclusion:\n",
        "* Model Yang digunakan untuk analisis sentimen adalah menggunakan SVM dengan tingkat akurasi terkahir berada di 87.63% dan angka tersebut suda melewati dari angka rata-rata, sehingga dapat dipertanggungjawabkan hasil nya.\n",
        "* Dalam dataset ini seharusnya terdapat 3 kelas label (Netral, Positif dan Negatif), namun pada saat pelatihan model, dikarenakan label negatif yang terlalu sedikit dan kecil, sehingga menganggu hasil dari akhir dari akurasi tersebut, jadi label netral dihapus saat training, dan hanya menggunakan 2 label saja."
      ],
      "metadata": {
        "id": "eiuaaLtxHnXM"
      }
    }
  ]
}