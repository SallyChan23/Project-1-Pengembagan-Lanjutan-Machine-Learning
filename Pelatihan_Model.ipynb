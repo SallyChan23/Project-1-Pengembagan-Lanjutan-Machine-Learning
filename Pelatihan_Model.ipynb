{
  "nbformat": 4,
  "nbformat_minor": 0,
  "metadata": {
    "colab": {
      "provenance": []
    },
    "kernelspec": {
      "name": "python3",
      "display_name": "Python 3"
    },
    "language_info": {
      "name": "python"
    }
  },
  "cells": [
    {
      "cell_type": "markdown",
      "source": [
        "# 1. Menginstall dan import Library yang dibutuhkan untuk tahap model"
      ],
      "metadata": {
        "id": "R99CGC7mQFCf"
      }
    },
    {
      "cell_type": "code",
      "source": [
        "!pip install nltk Sastrawi # Library untuk bahasa Indonesia\n",
        "!pip install scikit-learn"
      ],
      "metadata": {
        "colab": {
          "base_uri": "https://localhost:8080/"
        },
        "id": "63OOjXs6HPha",
        "outputId": "8e2acbbf-b56f-4035-f284-8e99c47411e4"
      },
      "execution_count": 2,
      "outputs": [
        {
          "output_type": "stream",
          "name": "stdout",
          "text": [
            "Requirement already satisfied: nltk in /usr/local/lib/python3.11/dist-packages (3.9.1)\n",
            "Collecting Sastrawi\n",
            "  Downloading Sastrawi-1.0.1-py2.py3-none-any.whl.metadata (909 bytes)\n",
            "Requirement already satisfied: click in /usr/local/lib/python3.11/dist-packages (from nltk) (8.1.8)\n",
            "Requirement already satisfied: joblib in /usr/local/lib/python3.11/dist-packages (from nltk) (1.4.2)\n",
            "Requirement already satisfied: regex>=2021.8.3 in /usr/local/lib/python3.11/dist-packages (from nltk) (2024.11.6)\n",
            "Requirement already satisfied: tqdm in /usr/local/lib/python3.11/dist-packages (from nltk) (4.67.1)\n",
            "Downloading Sastrawi-1.0.1-py2.py3-none-any.whl (209 kB)\n",
            "\u001b[2K   \u001b[90m━━━━━━━━━━━━━━━━━━━━━━━━━━━━━━━━━━━━━━━━\u001b[0m \u001b[32m209.7/209.7 kB\u001b[0m \u001b[31m4.7 MB/s\u001b[0m eta \u001b[36m0:00:00\u001b[0m\n",
            "\u001b[?25hInstalling collected packages: Sastrawi\n",
            "Successfully installed Sastrawi-1.0.1\n",
            "Requirement already satisfied: scikit-learn in /usr/local/lib/python3.11/dist-packages (1.6.1)\n",
            "Requirement already satisfied: numpy>=1.19.5 in /usr/local/lib/python3.11/dist-packages (from scikit-learn) (2.0.2)\n",
            "Requirement already satisfied: scipy>=1.6.0 in /usr/local/lib/python3.11/dist-packages (from scikit-learn) (1.14.1)\n",
            "Requirement already satisfied: joblib>=1.2.0 in /usr/local/lib/python3.11/dist-packages (from scikit-learn) (1.4.2)\n",
            "Requirement already satisfied: threadpoolctl>=3.1.0 in /usr/local/lib/python3.11/dist-packages (from scikit-learn) (3.6.0)\n"
          ]
        }
      ]
    },
    {
      "cell_type": "code",
      "execution_count": 66,
      "metadata": {
        "id": "cLroMUeEFioi"
      },
      "outputs": [],
      "source": [
        "import pandas as pd\n",
        "import numpy as np\n",
        "import re\n",
        "import string\n",
        "from sklearn.svm import SVC\n",
        "from Sastrawi.Stemmer.StemmerFactory import StemmerFactory\n",
        "from sklearn.feature_extraction.text import TfidfVectorizer\n",
        "from sklearn.model_selection import train_test_split\n",
        "from sklearn.preprocessing import LabelEncoder\n",
        "from sklearn.metrics import accuracy_score, classification_report\n",
        "from sklearn.ensemble import RandomForestClassifier\n",
        "import nltk\n",
        "from nltk.corpus import stopwords\n",
        "from tensorflow.keras.models import Model\n",
        "from tensorflow.keras.layers import Input, Embedding, Conv1D, GlobalMaxPooling1D, Concatenate, Dropout, Dense\n",
        "from tensorflow.keras.preprocessing.text import Tokenizer\n",
        "from tensorflow.keras.preprocessing.sequence import pad_sequences\n",
        "from tensorflow.keras.callbacks import EarlyStopping, ReduceLROnPlateau\n",
        "from tensorflow.keras.utils import to_categorical\n",
        "from tensorflow.keras.optimizers import Adam"
      ]
    },
    {
      "cell_type": "code",
      "source": [
        "nltk.download('stopwords')"
      ],
      "metadata": {
        "colab": {
          "base_uri": "https://localhost:8080/"
        },
        "id": "BBjFdKCfIjwU",
        "outputId": "a09a8fdc-f182-48fd-a033-1fb327d2d8df"
      },
      "execution_count": 6,
      "outputs": [
        {
          "output_type": "stream",
          "name": "stderr",
          "text": [
            "[nltk_data] Downloading package stopwords to /root/nltk_data...\n",
            "[nltk_data]   Unzipping corpora/stopwords.zip.\n"
          ]
        },
        {
          "output_type": "execute_result",
          "data": {
            "text/plain": [
              "True"
            ]
          },
          "metadata": {},
          "execution_count": 6
        }
      ]
    },
    {
      "cell_type": "markdown",
      "source": [
        "# 2. Load Dataset dan EDA"
      ],
      "metadata": {
        "id": "nHtSuLsVQTRi"
      }
    },
    {
      "cell_type": "code",
      "source": [
        "# Load Dataset\n",
        "df = pd.read_csv(\"playstore_reviews.csv\")\n",
        "print(df.head())"
      ],
      "metadata": {
        "colab": {
          "base_uri": "https://localhost:8080/"
        },
        "id": "iVYhcf2LICb2",
        "outputId": "597c17a0-a9ba-455f-f61a-3b3dd363b196"
      },
      "execution_count": 89,
      "outputs": [
        {
          "output_type": "stream",
          "name": "stdout",
          "text": [
            "                                              review sentiment\n",
            "0              kenapa tdk bisa login akun yaa??🤷🏻‍♀️   negatif\n",
            "1                           hilang lah semua progres   negatif\n",
            "2  Aplikasi sangat Baik, banyak Pengetahuan yang ...   positif\n",
            "3                      sangat bagus dan mudah sekali   positif\n",
            "4                                              anjay   positif\n"
          ]
        }
      ]
    },
    {
      "cell_type": "code",
      "source": [
        "print(\"\\nDistribusi Sentimen:\")\n",
        "print(df['sentiment'].value_counts())"
      ],
      "metadata": {
        "colab": {
          "base_uri": "https://localhost:8080/"
        },
        "id": "U2CCmSs7nUIx",
        "outputId": "581078dc-5a74-4475-d579-d8c2dbd23110"
      },
      "execution_count": 90,
      "outputs": [
        {
          "output_type": "stream",
          "name": "stdout",
          "text": [
            "\n",
            "Distribusi Sentimen:\n",
            "sentiment\n",
            "positif    5207\n",
            "negatif    4265\n",
            "netral      528\n",
            "Name: count, dtype: int64\n"
          ]
        }
      ]
    },
    {
      "cell_type": "markdown",
      "source": [
        "# 3. Pre-processing (Membersihkan Data)"
      ],
      "metadata": {
        "id": "lPmcuJC4QfLa"
      }
    },
    {
      "cell_type": "code",
      "source": [
        "factory = StemmerFactory()\n",
        "stemmer = factory.create_stemmer()\n",
        "stop_words = set(stopwords.words('indonesian'))\n",
        "\n",
        "# Untuk membersihkan text (tanda baca, mengubah menjadi semua nya menjadi huruf kecil, dll)\n",
        "\n",
        "def clean_text(text):\n",
        "    if isinstance(text, str):\n",
        "        text = text.lower()\n",
        "        text = re.sub(r'\\d+', '', text)\n",
        "        text = text.translate(str.maketrans(\"\", \"\", string.punctuation))\n",
        "        text = re.sub(r'\\s+', ' ', text).strip()\n",
        "        words = text.split()\n",
        "        words = [word for word in words if word not in stop_words]\n",
        "        words = [stemmer.stem(word) for word in words]\n",
        "        return \" \".join(words)\n",
        "    return \"\"\n",
        "df[\"clean_review\"] = df[\"review\"].apply(clean_text)"
      ],
      "metadata": {
        "id": "x8I1YAGUIBej"
      },
      "execution_count": 9,
      "outputs": []
    },
    {
      "cell_type": "code",
      "source": [
        "print(df[\"clean_review\"].isna().sum())\n",
        "print((df[\"clean_review\"].str.strip() == \"\").sum())"
      ],
      "metadata": {
        "colab": {
          "base_uri": "https://localhost:8080/"
        },
        "id": "2vX3WmnTI_Je",
        "outputId": "d7ba166b-cb1a-49e3-9b90-e707147a59c7"
      },
      "execution_count": 11,
      "outputs": [
        {
          "output_type": "stream",
          "name": "stdout",
          "text": [
            "0\n",
            "343\n"
          ]
        }
      ]
    },
    {
      "cell_type": "code",
      "source": [
        "# Menghapus Missing Value\n",
        "df = df.dropna(subset=[\"clean_review\"])\n",
        "df = df[df[\"clean_review\"].str.strip() != \"\"]\n",
        "print(df[\"clean_review\"].isna().sum())"
      ],
      "metadata": {
        "colab": {
          "base_uri": "https://localhost:8080/"
        },
        "id": "6VA8KOxDJAYo",
        "outputId": "d4ea3ae3-5448-458d-eb5a-75a31550f535"
      },
      "execution_count": 12,
      "outputs": [
        {
          "output_type": "stream",
          "name": "stdout",
          "text": [
            "0\n"
          ]
        }
      ]
    },
    {
      "cell_type": "code",
      "source": [
        "df.to_csv(\"playstore_reviews_cleaned.csv\", index=False)\n",
        "print(\"Dataset disimpan sebagai playstore_reviews_cleaned.csv.\")"
      ],
      "metadata": {
        "colab": {
          "base_uri": "https://localhost:8080/"
        },
        "id": "s9GSlXK8I7jw",
        "outputId": "5e9e741d-a9bb-4033-9eea-20369a52d284"
      },
      "execution_count": 14,
      "outputs": [
        {
          "output_type": "stream",
          "name": "stdout",
          "text": [
            "Dataset disimpan sebagai playstore_reviews_cleaned.csv.\n"
          ]
        }
      ]
    },
    {
      "cell_type": "markdown",
      "source": [
        "Insight:\n",
        "* Setelah dibersihkan di save dulu dataset nya agar lebih mudah dalam debugging ketika error"
      ],
      "metadata": {
        "id": "kBA9_1UKQmvs"
      }
    },
    {
      "cell_type": "markdown",
      "source": [
        "# 4. Proses TF-IDF (Ekstraksi dan Label Data)"
      ],
      "metadata": {
        "id": "zvZiLlKrQzVq"
      }
    },
    {
      "cell_type": "code",
      "source": [
        "# Proses Ekstraksi Fitur Dengan TF-IDF\n",
        "df = pd.read_csv(\"playstore_reviews_cleaned.csv\")\n",
        "df[\"clean_review\"] = df[\"clean_review\"].astype(str)\n",
        "\n",
        "tfidf = TfidfVectorizer(max_features=5000)\n",
        "X = tfidf.fit_transform(df[\"clean_review\"])\n",
        "X_df = pd.DataFrame(X.toarray(), columns=tfidf.get_feature_names_out())\n",
        "X_df[\"sentiment\"] = df[\"sentiment\"].values"
      ],
      "metadata": {
        "id": "reqR5oKiJEu3"
      },
      "execution_count": 23,
      "outputs": []
    },
    {
      "cell_type": "code",
      "source": [
        "X_df.to_csv(\"playstore_reviews_tfidf.csv\", index=False)\n",
        "print(\"Ekstraksi fitur selesai!\")\n",
        "print(X_df.head())"
      ],
      "metadata": {
        "colab": {
          "base_uri": "https://localhost:8080/"
        },
        "id": "Bq8FvqHPJGzp",
        "outputId": "7cae05b4-455a-4bdc-bd7f-ed90a6a1fb54"
      },
      "execution_count": 24,
      "outputs": [
        {
          "output_type": "stream",
          "name": "stdout",
          "text": [
            "Ekstraksi fitur selesai!\n",
            "   aangat  abah  abal  abas  abdet  abdete  abdullah  abglokal  abgus  abiez  \\\n",
            "0     0.0   0.0   0.0   0.0    0.0     0.0       0.0       0.0    0.0    0.0   \n",
            "1     0.0   0.0   0.0   0.0    0.0     0.0       0.0       0.0    0.0    0.0   \n",
            "2     0.0   0.0   0.0   0.0    0.0     0.0       0.0       0.0    0.0    0.0   \n",
            "3     0.0   0.0   0.0   0.0    0.0     0.0       0.0       0.0    0.0    0.0   \n",
            "4     0.0   0.0   0.0   0.0    0.0     0.0       0.0       0.0    0.0    0.0   \n",
            "\n",
            "   ...  yudah  yuhuuuu  yup  yuppie  yutub  ywdh   yy  zaman  zelidraw  \\\n",
            "0  ...    0.0      0.0  0.0     0.0    0.0   0.0  0.0    0.0       0.0   \n",
            "1  ...    0.0      0.0  0.0     0.0    0.0   0.0  0.0    0.0       0.0   \n",
            "2  ...    0.0      0.0  0.0     0.0    0.0   0.0  0.0    0.0       0.0   \n",
            "3  ...    0.0      0.0  0.0     0.0    0.0   0.0  0.0    0.0       0.0   \n",
            "4  ...    0.0      0.0  0.0     0.0    0.0   0.0  0.0    0.0       0.0   \n",
            "\n",
            "   sentiment  \n",
            "0    negatif  \n",
            "1    negatif  \n",
            "2    positif  \n",
            "3    positif  \n",
            "4    positif  \n",
            "\n",
            "[5 rows x 5001 columns]\n"
          ]
        }
      ]
    },
    {
      "cell_type": "markdown",
      "source": [
        "Insight:\n",
        "* Hasil ekstraksi TF-IDF ini menunjukkan representasi numerik dari kata-kata paling relevan dalam ulasan pengguna, yang siap digunakan untuk pelatihan model analisi sentimen."
      ],
      "metadata": {
        "id": "2dP9hdcERB8u"
      }
    },
    {
      "cell_type": "markdown",
      "source": [
        "# 5. Pembangunan Model dengan SVM"
      ],
      "metadata": {
        "id": "sKIOnqGHRIaQ"
      }
    },
    {
      "cell_type": "markdown",
      "source": [
        "**Machine Learning Traditional**"
      ],
      "metadata": {
        "id": "sC69INcqgHeA"
      }
    },
    {
      "cell_type": "code",
      "source": [
        "df = pd.read_csv(\"playstore_reviews_tfidf.csv\")"
      ],
      "metadata": {
        "id": "q96lnX-XJIkQ"
      },
      "execution_count": 29,
      "outputs": []
    },
    {
      "cell_type": "markdown",
      "source": [
        "Insight:\n",
        "* Memanggil dataset yang sudah di save setelah proses TF-IDF"
      ],
      "metadata": {
        "id": "-VuYKhCGRPAa"
      }
    },
    {
      "cell_type": "code",
      "source": [
        "df = df[df['sentiment'].isin(['positif', 'negatif'])]\n",
        "le = LabelEncoder()\n",
        "df['sentiment'] = le.fit_transform(df['sentiment'])"
      ],
      "metadata": {
        "colab": {
          "base_uri": "https://localhost:8080/"
        },
        "id": "Ef6DO9yNJK7w",
        "outputId": "bdaa5411-becd-4d65-d053-b803f17700ba"
      },
      "execution_count": 52,
      "outputs": [
        {
          "output_type": "stream",
          "name": "stderr",
          "text": [
            "<ipython-input-52-39f6fc015221>:3: SettingWithCopyWarning: \n",
            "A value is trying to be set on a copy of a slice from a DataFrame.\n",
            "Try using .loc[row_indexer,col_indexer] = value instead\n",
            "\n",
            "See the caveats in the documentation: https://pandas.pydata.org/pandas-docs/stable/user_guide/indexing.html#returning-a-view-versus-a-copy\n",
            "  df['sentiment'] = le.fit_transform(df['sentiment'])\n"
          ]
        }
      ]
    },
    {
      "cell_type": "markdown",
      "source": [
        "**Deep Learning**"
      ],
      "metadata": {
        "id": "Dd1g_5qyf7I8"
      }
    },
    {
      "cell_type": "code",
      "source": [
        "df_deep = pd.read_csv(\"playstore_reviews_cleaned.csv\")"
      ],
      "metadata": {
        "id": "4JAfTAQAfZsr"
      },
      "execution_count": 74,
      "outputs": []
    },
    {
      "cell_type": "code",
      "source": [
        "# Hpyermeter dan Tokenizer\n",
        "MAX_NB_WORDS = 5000\n",
        "MAX_SEQUENCE_LENGTH = 150\n",
        "EMBEDDING_DIM = 100\n",
        "\n",
        "tokenizer = Tokenizer(num_words=MAX_NB_WORDS, oov_token=\"<OOV>\")\n",
        "tokenizer.fit_on_texts(df_deep[\"clean_review\"])\n",
        "X_deep = tokenizer.texts_to_sequences(df_deep[\"clean_review\"])\n",
        "X_deep = pad_sequences(X_deep, maxlen=MAX_SEQUENCE_LENGTH, padding=\"post\")"
      ],
      "metadata": {
        "id": "z5lFNMBob0KR"
      },
      "execution_count": 80,
      "outputs": []
    },
    {
      "cell_type": "code",
      "source": [
        "df_deep = df_deep[df_deep['sentiment'].isin(['positif', 'negatif'])]\n",
        "le = LabelEncoder()\n",
        "y_deep = le.fit_transform(df_deep[\"sentiment\"])"
      ],
      "metadata": {
        "id": "PuAzZcM7feUo"
      },
      "execution_count": 81,
      "outputs": []
    },
    {
      "cell_type": "markdown",
      "source": [
        "Insight:\n",
        "* Digunakan untuk algoritma DeepLearning (TextCNN)"
      ],
      "metadata": {
        "id": "cTZpi8tscVmh"
      }
    },
    {
      "cell_type": "markdown",
      "source": [
        "# a. Splitting Data"
      ],
      "metadata": {
        "id": "zGvKdoNYRW_K"
      }
    },
    {
      "cell_type": "markdown",
      "source": [
        "**SVM + RF**"
      ],
      "metadata": {
        "id": "Ieoad8-QhEhu"
      }
    },
    {
      "cell_type": "code",
      "source": [
        "X = df.drop(columns=['sentiment'])\n",
        "y = df['sentiment']\n",
        "X_train, X_test, y_train, y_test = train_test_split(X, y, test_size=0.2, random_state=42, stratify=y)"
      ],
      "metadata": {
        "id": "bHpu1U2pJNlL"
      },
      "execution_count": 70,
      "outputs": []
    },
    {
      "cell_type": "markdown",
      "source": [
        "**TextCNN**"
      ],
      "metadata": {
        "id": "a7-sM21uhJco"
      }
    },
    {
      "cell_type": "code",
      "source": [
        "X_train_deep, X_test_deep, y_train_deep, y_test_deep = train_test_split(\n",
        "    X_deep, y_deep, test_size=0.2, random_state=42, stratify=y_deep\n",
        ")"
      ],
      "metadata": {
        "id": "YMp5etvuhDpG"
      },
      "execution_count": 82,
      "outputs": []
    },
    {
      "cell_type": "markdown",
      "source": [
        "# b. Training Model"
      ],
      "metadata": {
        "id": "Jx5FkpOkRzU_"
      }
    },
    {
      "cell_type": "markdown",
      "source": [
        "* Pembangunan Model untuk TextCNN"
      ],
      "metadata": {
        "id": "EtV8nO6EcvJj"
      }
    },
    {
      "cell_type": "code",
      "source": [
        "input_layer = Input(shape=(MAX_SEQUENCE_LENGTH,))\n",
        "embedding_layer = Embedding(MAX_NB_WORDS, EMBEDDING_DIM)(input_layer)\n",
        "\n",
        "conv1 = Conv1D(256, 3, activation='relu')(embedding_layer)\n",
        "conv2 = Conv1D(256, 4, activation='relu')(embedding_layer)\n",
        "conv3 = Conv1D(256, 5, activation='relu')(embedding_layer)\n",
        "\n",
        "pool1 = GlobalMaxPooling1D()(conv1)\n",
        "pool2 = GlobalMaxPooling1D()(conv2)\n",
        "pool3 = GlobalMaxPooling1D()(conv3)\n",
        "\n",
        "concat = Concatenate()([pool1, pool2, pool3])\n",
        "dropout1 = Dropout(0.5)(concat)\n",
        "dense = Dense(128, activation='relu')(dropout1)\n",
        "dropout2 = Dropout(0.3)(dense)\n",
        "output_layer = Dense(2, activation='softmax')(dropout2)\n",
        "\n",
        "textcnn_model = Model(inputs=input_layer, outputs=output_layer)\n",
        "\n",
        "textcnn_model.compile(\n",
        "    loss='sparse_categorical_crossentropy',\n",
        "    optimizer=Adam(learning_rate=1e-3),\n",
        "    metrics=['accuracy']\n",
        ")\n",
        "textcnn_model.summary()"
      ],
      "metadata": {
        "colab": {
          "base_uri": "https://localhost:8080/",
          "height": 641
        },
        "id": "Y8mJ6HShcsjO",
        "outputId": "58877ae3-493e-421e-9917-18d0dcfaa3dd"
      },
      "execution_count": 71,
      "outputs": [
        {
          "output_type": "display_data",
          "data": {
            "text/plain": [
              "\u001b[1mModel: \"functional_2\"\u001b[0m\n"
            ],
            "text/html": [
              "<pre style=\"white-space:pre;overflow-x:auto;line-height:normal;font-family:Menlo,'DejaVu Sans Mono',consolas,'Courier New',monospace\"><span style=\"font-weight: bold\">Model: \"functional_2\"</span>\n",
              "</pre>\n"
            ]
          },
          "metadata": {}
        },
        {
          "output_type": "display_data",
          "data": {
            "text/plain": [
              "┏━━━━━━━━━━━━━━━━━━━━━━━━━━━┳━━━━━━━━━━━━━━━━━━━━━━━━┳━━━━━━━━━━━━━━━━┳━━━━━━━━━━━━━━━━━━━━━━━━┓\n",
              "┃\u001b[1m \u001b[0m\u001b[1mLayer (type)             \u001b[0m\u001b[1m \u001b[0m┃\u001b[1m \u001b[0m\u001b[1mOutput Shape          \u001b[0m\u001b[1m \u001b[0m┃\u001b[1m \u001b[0m\u001b[1m       Param #\u001b[0m\u001b[1m \u001b[0m┃\u001b[1m \u001b[0m\u001b[1mConnected to          \u001b[0m\u001b[1m \u001b[0m┃\n",
              "┡━━━━━━━━━━━━━━━━━━━━━━━━━━━╇━━━━━━━━━━━━━━━━━━━━━━━━╇━━━━━━━━━━━━━━━━╇━━━━━━━━━━━━━━━━━━━━━━━━┩\n",
              "│ input_layer_2             │ (\u001b[38;5;45mNone\u001b[0m, \u001b[38;5;34m150\u001b[0m)            │              \u001b[38;5;34m0\u001b[0m │ -                      │\n",
              "│ (\u001b[38;5;33mInputLayer\u001b[0m)              │                        │                │                        │\n",
              "├───────────────────────────┼────────────────────────┼────────────────┼────────────────────────┤\n",
              "│ embedding_2 (\u001b[38;5;33mEmbedding\u001b[0m)   │ (\u001b[38;5;45mNone\u001b[0m, \u001b[38;5;34m150\u001b[0m, \u001b[38;5;34m100\u001b[0m)       │        \u001b[38;5;34m500,000\u001b[0m │ input_layer_2[\u001b[38;5;34m0\u001b[0m][\u001b[38;5;34m0\u001b[0m]    │\n",
              "├───────────────────────────┼────────────────────────┼────────────────┼────────────────────────┤\n",
              "│ conv1d_6 (\u001b[38;5;33mConv1D\u001b[0m)         │ (\u001b[38;5;45mNone\u001b[0m, \u001b[38;5;34m148\u001b[0m, \u001b[38;5;34m256\u001b[0m)       │         \u001b[38;5;34m77,056\u001b[0m │ embedding_2[\u001b[38;5;34m0\u001b[0m][\u001b[38;5;34m0\u001b[0m]      │\n",
              "├───────────────────────────┼────────────────────────┼────────────────┼────────────────────────┤\n",
              "│ conv1d_7 (\u001b[38;5;33mConv1D\u001b[0m)         │ (\u001b[38;5;45mNone\u001b[0m, \u001b[38;5;34m147\u001b[0m, \u001b[38;5;34m256\u001b[0m)       │        \u001b[38;5;34m102,656\u001b[0m │ embedding_2[\u001b[38;5;34m0\u001b[0m][\u001b[38;5;34m0\u001b[0m]      │\n",
              "├───────────────────────────┼────────────────────────┼────────────────┼────────────────────────┤\n",
              "│ conv1d_8 (\u001b[38;5;33mConv1D\u001b[0m)         │ (\u001b[38;5;45mNone\u001b[0m, \u001b[38;5;34m146\u001b[0m, \u001b[38;5;34m256\u001b[0m)       │        \u001b[38;5;34m128,256\u001b[0m │ embedding_2[\u001b[38;5;34m0\u001b[0m][\u001b[38;5;34m0\u001b[0m]      │\n",
              "├───────────────────────────┼────────────────────────┼────────────────┼────────────────────────┤\n",
              "│ global_max_pooling1d_6    │ (\u001b[38;5;45mNone\u001b[0m, \u001b[38;5;34m256\u001b[0m)            │              \u001b[38;5;34m0\u001b[0m │ conv1d_6[\u001b[38;5;34m0\u001b[0m][\u001b[38;5;34m0\u001b[0m]         │\n",
              "│ (\u001b[38;5;33mGlobalMaxPooling1D\u001b[0m)      │                        │                │                        │\n",
              "├───────────────────────────┼────────────────────────┼────────────────┼────────────────────────┤\n",
              "│ global_max_pooling1d_7    │ (\u001b[38;5;45mNone\u001b[0m, \u001b[38;5;34m256\u001b[0m)            │              \u001b[38;5;34m0\u001b[0m │ conv1d_7[\u001b[38;5;34m0\u001b[0m][\u001b[38;5;34m0\u001b[0m]         │\n",
              "│ (\u001b[38;5;33mGlobalMaxPooling1D\u001b[0m)      │                        │                │                        │\n",
              "├───────────────────────────┼────────────────────────┼────────────────┼────────────────────────┤\n",
              "│ global_max_pooling1d_8    │ (\u001b[38;5;45mNone\u001b[0m, \u001b[38;5;34m256\u001b[0m)            │              \u001b[38;5;34m0\u001b[0m │ conv1d_8[\u001b[38;5;34m0\u001b[0m][\u001b[38;5;34m0\u001b[0m]         │\n",
              "│ (\u001b[38;5;33mGlobalMaxPooling1D\u001b[0m)      │                        │                │                        │\n",
              "├───────────────────────────┼────────────────────────┼────────────────┼────────────────────────┤\n",
              "│ concatenate_2             │ (\u001b[38;5;45mNone\u001b[0m, \u001b[38;5;34m768\u001b[0m)            │              \u001b[38;5;34m0\u001b[0m │ global_max_pooling1d_… │\n",
              "│ (\u001b[38;5;33mConcatenate\u001b[0m)             │                        │                │ global_max_pooling1d_… │\n",
              "│                           │                        │                │ global_max_pooling1d_… │\n",
              "├───────────────────────────┼────────────────────────┼────────────────┼────────────────────────┤\n",
              "│ dropout_4 (\u001b[38;5;33mDropout\u001b[0m)       │ (\u001b[38;5;45mNone\u001b[0m, \u001b[38;5;34m768\u001b[0m)            │              \u001b[38;5;34m0\u001b[0m │ concatenate_2[\u001b[38;5;34m0\u001b[0m][\u001b[38;5;34m0\u001b[0m]    │\n",
              "├───────────────────────────┼────────────────────────┼────────────────┼────────────────────────┤\n",
              "│ dense_4 (\u001b[38;5;33mDense\u001b[0m)           │ (\u001b[38;5;45mNone\u001b[0m, \u001b[38;5;34m128\u001b[0m)            │         \u001b[38;5;34m98,432\u001b[0m │ dropout_4[\u001b[38;5;34m0\u001b[0m][\u001b[38;5;34m0\u001b[0m]        │\n",
              "├───────────────────────────┼────────────────────────┼────────────────┼────────────────────────┤\n",
              "│ dropout_5 (\u001b[38;5;33mDropout\u001b[0m)       │ (\u001b[38;5;45mNone\u001b[0m, \u001b[38;5;34m128\u001b[0m)            │              \u001b[38;5;34m0\u001b[0m │ dense_4[\u001b[38;5;34m0\u001b[0m][\u001b[38;5;34m0\u001b[0m]          │\n",
              "├───────────────────────────┼────────────────────────┼────────────────┼────────────────────────┤\n",
              "│ dense_5 (\u001b[38;5;33mDense\u001b[0m)           │ (\u001b[38;5;45mNone\u001b[0m, \u001b[38;5;34m2\u001b[0m)              │            \u001b[38;5;34m258\u001b[0m │ dropout_5[\u001b[38;5;34m0\u001b[0m][\u001b[38;5;34m0\u001b[0m]        │\n",
              "└───────────────────────────┴────────────────────────┴────────────────┴────────────────────────┘\n"
            ],
            "text/html": [
              "<pre style=\"white-space:pre;overflow-x:auto;line-height:normal;font-family:Menlo,'DejaVu Sans Mono',consolas,'Courier New',monospace\">┏━━━━━━━━━━━━━━━━━━━━━━━━━━━┳━━━━━━━━━━━━━━━━━━━━━━━━┳━━━━━━━━━━━━━━━━┳━━━━━━━━━━━━━━━━━━━━━━━━┓\n",
              "┃<span style=\"font-weight: bold\"> Layer (type)              </span>┃<span style=\"font-weight: bold\"> Output Shape           </span>┃<span style=\"font-weight: bold\">        Param # </span>┃<span style=\"font-weight: bold\"> Connected to           </span>┃\n",
              "┡━━━━━━━━━━━━━━━━━━━━━━━━━━━╇━━━━━━━━━━━━━━━━━━━━━━━━╇━━━━━━━━━━━━━━━━╇━━━━━━━━━━━━━━━━━━━━━━━━┩\n",
              "│ input_layer_2             │ (<span style=\"color: #00d7ff; text-decoration-color: #00d7ff\">None</span>, <span style=\"color: #00af00; text-decoration-color: #00af00\">150</span>)            │              <span style=\"color: #00af00; text-decoration-color: #00af00\">0</span> │ -                      │\n",
              "│ (<span style=\"color: #0087ff; text-decoration-color: #0087ff\">InputLayer</span>)              │                        │                │                        │\n",
              "├───────────────────────────┼────────────────────────┼────────────────┼────────────────────────┤\n",
              "│ embedding_2 (<span style=\"color: #0087ff; text-decoration-color: #0087ff\">Embedding</span>)   │ (<span style=\"color: #00d7ff; text-decoration-color: #00d7ff\">None</span>, <span style=\"color: #00af00; text-decoration-color: #00af00\">150</span>, <span style=\"color: #00af00; text-decoration-color: #00af00\">100</span>)       │        <span style=\"color: #00af00; text-decoration-color: #00af00\">500,000</span> │ input_layer_2[<span style=\"color: #00af00; text-decoration-color: #00af00\">0</span>][<span style=\"color: #00af00; text-decoration-color: #00af00\">0</span>]    │\n",
              "├───────────────────────────┼────────────────────────┼────────────────┼────────────────────────┤\n",
              "│ conv1d_6 (<span style=\"color: #0087ff; text-decoration-color: #0087ff\">Conv1D</span>)         │ (<span style=\"color: #00d7ff; text-decoration-color: #00d7ff\">None</span>, <span style=\"color: #00af00; text-decoration-color: #00af00\">148</span>, <span style=\"color: #00af00; text-decoration-color: #00af00\">256</span>)       │         <span style=\"color: #00af00; text-decoration-color: #00af00\">77,056</span> │ embedding_2[<span style=\"color: #00af00; text-decoration-color: #00af00\">0</span>][<span style=\"color: #00af00; text-decoration-color: #00af00\">0</span>]      │\n",
              "├───────────────────────────┼────────────────────────┼────────────────┼────────────────────────┤\n",
              "│ conv1d_7 (<span style=\"color: #0087ff; text-decoration-color: #0087ff\">Conv1D</span>)         │ (<span style=\"color: #00d7ff; text-decoration-color: #00d7ff\">None</span>, <span style=\"color: #00af00; text-decoration-color: #00af00\">147</span>, <span style=\"color: #00af00; text-decoration-color: #00af00\">256</span>)       │        <span style=\"color: #00af00; text-decoration-color: #00af00\">102,656</span> │ embedding_2[<span style=\"color: #00af00; text-decoration-color: #00af00\">0</span>][<span style=\"color: #00af00; text-decoration-color: #00af00\">0</span>]      │\n",
              "├───────────────────────────┼────────────────────────┼────────────────┼────────────────────────┤\n",
              "│ conv1d_8 (<span style=\"color: #0087ff; text-decoration-color: #0087ff\">Conv1D</span>)         │ (<span style=\"color: #00d7ff; text-decoration-color: #00d7ff\">None</span>, <span style=\"color: #00af00; text-decoration-color: #00af00\">146</span>, <span style=\"color: #00af00; text-decoration-color: #00af00\">256</span>)       │        <span style=\"color: #00af00; text-decoration-color: #00af00\">128,256</span> │ embedding_2[<span style=\"color: #00af00; text-decoration-color: #00af00\">0</span>][<span style=\"color: #00af00; text-decoration-color: #00af00\">0</span>]      │\n",
              "├───────────────────────────┼────────────────────────┼────────────────┼────────────────────────┤\n",
              "│ global_max_pooling1d_6    │ (<span style=\"color: #00d7ff; text-decoration-color: #00d7ff\">None</span>, <span style=\"color: #00af00; text-decoration-color: #00af00\">256</span>)            │              <span style=\"color: #00af00; text-decoration-color: #00af00\">0</span> │ conv1d_6[<span style=\"color: #00af00; text-decoration-color: #00af00\">0</span>][<span style=\"color: #00af00; text-decoration-color: #00af00\">0</span>]         │\n",
              "│ (<span style=\"color: #0087ff; text-decoration-color: #0087ff\">GlobalMaxPooling1D</span>)      │                        │                │                        │\n",
              "├───────────────────────────┼────────────────────────┼────────────────┼────────────────────────┤\n",
              "│ global_max_pooling1d_7    │ (<span style=\"color: #00d7ff; text-decoration-color: #00d7ff\">None</span>, <span style=\"color: #00af00; text-decoration-color: #00af00\">256</span>)            │              <span style=\"color: #00af00; text-decoration-color: #00af00\">0</span> │ conv1d_7[<span style=\"color: #00af00; text-decoration-color: #00af00\">0</span>][<span style=\"color: #00af00; text-decoration-color: #00af00\">0</span>]         │\n",
              "│ (<span style=\"color: #0087ff; text-decoration-color: #0087ff\">GlobalMaxPooling1D</span>)      │                        │                │                        │\n",
              "├───────────────────────────┼────────────────────────┼────────────────┼────────────────────────┤\n",
              "│ global_max_pooling1d_8    │ (<span style=\"color: #00d7ff; text-decoration-color: #00d7ff\">None</span>, <span style=\"color: #00af00; text-decoration-color: #00af00\">256</span>)            │              <span style=\"color: #00af00; text-decoration-color: #00af00\">0</span> │ conv1d_8[<span style=\"color: #00af00; text-decoration-color: #00af00\">0</span>][<span style=\"color: #00af00; text-decoration-color: #00af00\">0</span>]         │\n",
              "│ (<span style=\"color: #0087ff; text-decoration-color: #0087ff\">GlobalMaxPooling1D</span>)      │                        │                │                        │\n",
              "├───────────────────────────┼────────────────────────┼────────────────┼────────────────────────┤\n",
              "│ concatenate_2             │ (<span style=\"color: #00d7ff; text-decoration-color: #00d7ff\">None</span>, <span style=\"color: #00af00; text-decoration-color: #00af00\">768</span>)            │              <span style=\"color: #00af00; text-decoration-color: #00af00\">0</span> │ global_max_pooling1d_… │\n",
              "│ (<span style=\"color: #0087ff; text-decoration-color: #0087ff\">Concatenate</span>)             │                        │                │ global_max_pooling1d_… │\n",
              "│                           │                        │                │ global_max_pooling1d_… │\n",
              "├───────────────────────────┼────────────────────────┼────────────────┼────────────────────────┤\n",
              "│ dropout_4 (<span style=\"color: #0087ff; text-decoration-color: #0087ff\">Dropout</span>)       │ (<span style=\"color: #00d7ff; text-decoration-color: #00d7ff\">None</span>, <span style=\"color: #00af00; text-decoration-color: #00af00\">768</span>)            │              <span style=\"color: #00af00; text-decoration-color: #00af00\">0</span> │ concatenate_2[<span style=\"color: #00af00; text-decoration-color: #00af00\">0</span>][<span style=\"color: #00af00; text-decoration-color: #00af00\">0</span>]    │\n",
              "├───────────────────────────┼────────────────────────┼────────────────┼────────────────────────┤\n",
              "│ dense_4 (<span style=\"color: #0087ff; text-decoration-color: #0087ff\">Dense</span>)           │ (<span style=\"color: #00d7ff; text-decoration-color: #00d7ff\">None</span>, <span style=\"color: #00af00; text-decoration-color: #00af00\">128</span>)            │         <span style=\"color: #00af00; text-decoration-color: #00af00\">98,432</span> │ dropout_4[<span style=\"color: #00af00; text-decoration-color: #00af00\">0</span>][<span style=\"color: #00af00; text-decoration-color: #00af00\">0</span>]        │\n",
              "├───────────────────────────┼────────────────────────┼────────────────┼────────────────────────┤\n",
              "│ dropout_5 (<span style=\"color: #0087ff; text-decoration-color: #0087ff\">Dropout</span>)       │ (<span style=\"color: #00d7ff; text-decoration-color: #00d7ff\">None</span>, <span style=\"color: #00af00; text-decoration-color: #00af00\">128</span>)            │              <span style=\"color: #00af00; text-decoration-color: #00af00\">0</span> │ dense_4[<span style=\"color: #00af00; text-decoration-color: #00af00\">0</span>][<span style=\"color: #00af00; text-decoration-color: #00af00\">0</span>]          │\n",
              "├───────────────────────────┼────────────────────────┼────────────────┼────────────────────────┤\n",
              "│ dense_5 (<span style=\"color: #0087ff; text-decoration-color: #0087ff\">Dense</span>)           │ (<span style=\"color: #00d7ff; text-decoration-color: #00d7ff\">None</span>, <span style=\"color: #00af00; text-decoration-color: #00af00\">2</span>)              │            <span style=\"color: #00af00; text-decoration-color: #00af00\">258</span> │ dropout_5[<span style=\"color: #00af00; text-decoration-color: #00af00\">0</span>][<span style=\"color: #00af00; text-decoration-color: #00af00\">0</span>]        │\n",
              "└───────────────────────────┴────────────────────────┴────────────────┴────────────────────────┘\n",
              "</pre>\n"
            ]
          },
          "metadata": {}
        },
        {
          "output_type": "display_data",
          "data": {
            "text/plain": [
              "\u001b[1m Total params: \u001b[0m\u001b[38;5;34m906,658\u001b[0m (3.46 MB)\n"
            ],
            "text/html": [
              "<pre style=\"white-space:pre;overflow-x:auto;line-height:normal;font-family:Menlo,'DejaVu Sans Mono',consolas,'Courier New',monospace\"><span style=\"font-weight: bold\"> Total params: </span><span style=\"color: #00af00; text-decoration-color: #00af00\">906,658</span> (3.46 MB)\n",
              "</pre>\n"
            ]
          },
          "metadata": {}
        },
        {
          "output_type": "display_data",
          "data": {
            "text/plain": [
              "\u001b[1m Trainable params: \u001b[0m\u001b[38;5;34m906,658\u001b[0m (3.46 MB)\n"
            ],
            "text/html": [
              "<pre style=\"white-space:pre;overflow-x:auto;line-height:normal;font-family:Menlo,'DejaVu Sans Mono',consolas,'Courier New',monospace\"><span style=\"font-weight: bold\"> Trainable params: </span><span style=\"color: #00af00; text-decoration-color: #00af00\">906,658</span> (3.46 MB)\n",
              "</pre>\n"
            ]
          },
          "metadata": {}
        },
        {
          "output_type": "display_data",
          "data": {
            "text/plain": [
              "\u001b[1m Non-trainable params: \u001b[0m\u001b[38;5;34m0\u001b[0m (0.00 B)\n"
            ],
            "text/html": [
              "<pre style=\"white-space:pre;overflow-x:auto;line-height:normal;font-family:Menlo,'DejaVu Sans Mono',consolas,'Courier New',monospace\"><span style=\"font-weight: bold\"> Non-trainable params: </span><span style=\"color: #00af00; text-decoration-color: #00af00\">0</span> (0.00 B)\n",
              "</pre>\n"
            ]
          },
          "metadata": {}
        }
      ]
    },
    {
      "cell_type": "code",
      "source": [
        "#Text CNN\n",
        "early_stop = EarlyStopping(monitor='val_loss', patience=3, restore_best_weights=True)\n",
        "reduce_lr = ReduceLROnPlateau(monitor='val_loss', factor=0.5, patience=2, min_lr=1e-5)\n",
        "\n",
        "textcnn_model.fit(\n",
        "    X_train_deep, y_train_deep,\n",
        "    validation_data=(X_test_deep, y_test_deep),\n",
        "    batch_size=32,\n",
        "    epochs=20,\n",
        "    callbacks=[early_stop, reduce_lr],\n",
        "    verbose=1\n",
        ")"
      ],
      "metadata": {
        "colab": {
          "base_uri": "https://localhost:8080/"
        },
        "id": "6IC38Cwyc3QU",
        "outputId": "a378a9b6-a294-4f9f-877d-a637b477de71"
      },
      "execution_count": 84,
      "outputs": [
        {
          "output_type": "stream",
          "name": "stdout",
          "text": [
            "Epoch 1/20\n",
            "\u001b[1m229/229\u001b[0m \u001b[32m━━━━━━━━━━━━━━━━━━━━\u001b[0m\u001b[37m\u001b[0m \u001b[1m49s\u001b[0m 214ms/step - accuracy: 0.9209 - loss: 0.2221 - val_accuracy: 0.8802 - val_loss: 0.3049 - learning_rate: 5.0000e-04\n",
            "Epoch 2/20\n",
            "\u001b[1m229/229\u001b[0m \u001b[32m━━━━━━━━━━━━━━━━━━━━\u001b[0m\u001b[37m\u001b[0m \u001b[1m82s\u001b[0m 215ms/step - accuracy: 0.9513 - loss: 0.1568 - val_accuracy: 0.8714 - val_loss: 0.3518 - learning_rate: 5.0000e-04\n",
            "Epoch 3/20\n",
            "\u001b[1m229/229\u001b[0m \u001b[32m━━━━━━━━━━━━━━━━━━━━\u001b[0m\u001b[37m\u001b[0m \u001b[1m83s\u001b[0m 220ms/step - accuracy: 0.9635 - loss: 0.1132 - val_accuracy: 0.8660 - val_loss: 0.4058 - learning_rate: 5.0000e-04\n",
            "Epoch 4/20\n",
            "\u001b[1m229/229\u001b[0m \u001b[32m━━━━━━━━━━━━━━━━━━━━\u001b[0m\u001b[37m\u001b[0m \u001b[1m51s\u001b[0m 222ms/step - accuracy: 0.9731 - loss: 0.0943 - val_accuracy: 0.8693 - val_loss: 0.4343 - learning_rate: 2.5000e-04\n"
          ]
        },
        {
          "output_type": "execute_result",
          "data": {
            "text/plain": [
              "<keras.src.callbacks.history.History at 0x79e49c5c9f50>"
            ]
          },
          "metadata": {},
          "execution_count": 84
        }
      ]
    },
    {
      "cell_type": "code",
      "source": [
        "# SVM\n",
        "svm = SVC(kernel='linear', C=1)\n",
        "svm.fit(X_train, y_train)\n",
        "y_pred = svm.predict(X_test)"
      ],
      "metadata": {
        "id": "azLtYrxRJPJ7"
      },
      "execution_count": 32,
      "outputs": []
    },
    {
      "cell_type": "code",
      "source": [
        "# Random Forest\n",
        "rf_model = RandomForestClassifier(n_estimators=100, random_state=42)\n",
        "rf_model.fit(X_train, y_train)\n",
        "y_pred_rf = rf_model.predict(X_test)"
      ],
      "metadata": {
        "id": "dcadxC2PYJ_h"
      },
      "execution_count": 38,
      "outputs": []
    },
    {
      "cell_type": "markdown",
      "source": [
        "# c. Evaluasi Data"
      ],
      "metadata": {
        "id": "GBX7o1AyR47W"
      }
    },
    {
      "cell_type": "code",
      "source": [
        "print(\"Accuracy SVM:\", accuracy_score(y_test, y_pred) * 100, \"%\")\n",
        "print(\"\\nClassification Report:\\n\", classification_report(y_test, y_pred, target_names=le.classes_))"
      ],
      "metadata": {
        "colab": {
          "base_uri": "https://localhost:8080/"
        },
        "id": "3zkaAVqPJSKC",
        "outputId": "94a3d302-5d4a-4e90-c4fc-239ade1e5c66"
      },
      "execution_count": 33,
      "outputs": [
        {
          "output_type": "stream",
          "name": "stdout",
          "text": [
            "Accuracy SVM: 87.63676148796499 %\n",
            "\n",
            "Classification Report:\n",
            "               precision    recall  f1-score   support\n",
            "\n",
            "     negatif       0.85      0.88      0.87       846\n",
            "     positif       0.90      0.87      0.88       982\n",
            "\n",
            "    accuracy                           0.88      1828\n",
            "   macro avg       0.88      0.88      0.88      1828\n",
            "weighted avg       0.88      0.88      0.88      1828\n",
            "\n"
          ]
        }
      ]
    },
    {
      "cell_type": "code",
      "source": [
        "print(\"Accuracy Random Forest:\", accuracy_score(y_test, y_pred_rf) * 100, \"%\")\n",
        "print(\"\\nClassification Report:\\n\", classification_report(y_test, y_pred_rf, target_names=le.classes_))"
      ],
      "metadata": {
        "colab": {
          "base_uri": "https://localhost:8080/"
        },
        "id": "drLmPOjNYiMi",
        "outputId": "e6da37a0-6616-401e-e2d2-59a49c1a16f4"
      },
      "execution_count": 39,
      "outputs": [
        {
          "output_type": "stream",
          "name": "stdout",
          "text": [
            "Accuracy Random Forest: 85.77680525164114 %\n",
            "\n",
            "Classification Report:\n",
            "               precision    recall  f1-score   support\n",
            "\n",
            "     negatif       0.83      0.87      0.85       846\n",
            "     positif       0.88      0.85      0.87       982\n",
            "\n",
            "    accuracy                           0.86      1828\n",
            "   macro avg       0.86      0.86      0.86      1828\n",
            "weighted avg       0.86      0.86      0.86      1828\n",
            "\n"
          ]
        }
      ]
    },
    {
      "cell_type": "code",
      "source": [
        "y_pred_deep = np.argmax(textcnn_model.predict(X_test_deep), axis=1)\n",
        "acc = accuracy_score(y_test_deep, y_pred_deep)\n",
        "print(f\"\\nAccuracy TextCNN: {acc * 100:.2f}%\")\n",
        "print(\"\\nClassification Report:\\n\", classification_report(y_test_deep, y_pred_rf, target_names=le.classes_))"
      ],
      "metadata": {
        "colab": {
          "base_uri": "https://localhost:8080/"
        },
        "id": "RUjqT1b9lTF_",
        "outputId": "ef9afd06-c612-4e03-b749-1f398a6b1176"
      },
      "execution_count": 87,
      "outputs": [
        {
          "output_type": "stream",
          "name": "stdout",
          "text": [
            "\u001b[1m58/58\u001b[0m \u001b[32m━━━━━━━━━━━━━━━━━━━━\u001b[0m\u001b[37m\u001b[0m \u001b[1m5s\u001b[0m 88ms/step\n",
            "\n",
            "Accuracy TextCNN: 88.02%\n",
            "\n",
            "Classification Report:\n",
            "               precision    recall  f1-score   support\n",
            "\n",
            "     negatif       0.83      0.87      0.85       846\n",
            "     positif       0.88      0.85      0.87       982\n",
            "\n",
            "    accuracy                           0.86      1828\n",
            "   macro avg       0.86      0.86      0.86      1828\n",
            "weighted avg       0.86      0.86      0.86      1828\n",
            "\n"
          ]
        }
      ]
    },
    {
      "cell_type": "markdown",
      "source": [
        "Kesimpulan:\n",
        "* Berdasarkan hasil evaluasi model pada ketiga algoritma SVM, Random Forest, dan TextCNN dapat disimpulkan bahwa TextCNN merupakan model dengan performa terbaik untuk tugas klasifikasi sentimen pada dataset ulasan pada aplikasi x atau twitter. TextCNN berhasil mencapai akurasi 88.02%, mengungguli SVM dengan akurasi 87.63% dan Random Forest dengan akurasi 85.77%.\n",
        "* Selain itu, TextCNN juga menunjukkan skor precision, recall, dan f1-score yang seimbang di kedua kelas (positif dan negatif), yang menandakan kemampuannya dalam menangkap pola teks secara lebih kompleks melalui pendekatan deep learning.\n",
        "* Dengan demikian, jika mempertimbangkan akurasi dan stabilitas performa pada kedua label sentimen, TextCNN menjadi pilihan paling ideal di antara model yang diuji untuk digunakan dalam klasifikasi sentimen pada data ini.\n",
        "* Dalam dataset ini seharusnya terdapat 3 kelas label (Netral, Positif dan Negatif), namun pada saat pelatihan model, dikarenakan label negatif yang terlalu sedikit dan kecil, sehingga menganggu hasil dari akhir dari akurasi tersebut, jadi label netral dihapus saat training, dan hanya menggunakan 2 label saja."
      ],
      "metadata": {
        "id": "eiuaaLtxHnXM"
      }
    }
  ]
}