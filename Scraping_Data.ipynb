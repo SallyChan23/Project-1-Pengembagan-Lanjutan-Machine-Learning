{
  "nbformat": 4,
  "nbformat_minor": 0,
  "metadata": {
    "colab": {
      "provenance": [],
      "gpuType": "T4"
    },
    "kernelspec": {
      "name": "python3",
      "display_name": "Python 3"
    },
    "language_info": {
      "name": "python"
    },
    "accelerator": "GPU"
  },
  "cells": [
    {
      "cell_type": "markdown",
      "source": [
        "# 1. Import dan Install Library"
      ],
      "metadata": {
        "id": "UZvFKTNPny1W"
      }
    },
    {
      "cell_type": "code",
      "execution_count": 1,
      "metadata": {
        "colab": {
          "base_uri": "https://localhost:8080/"
        },
        "id": "jZyNOwhpKZze",
        "outputId": "8e5d7d57-258c-4212-8dec-1d5b511be17e"
      },
      "outputs": [
        {
          "output_type": "stream",
          "name": "stdout",
          "text": [
            "Collecting google-play-scraper\n",
            "  Downloading google_play_scraper-1.2.7-py3-none-any.whl.metadata (50 kB)\n",
            "\u001b[?25l     \u001b[90m━━━━━━━━━━━━━━━━━━━━━━━━━━━━━━━━━━━━━━━━\u001b[0m \u001b[32m0.0/50.2 kB\u001b[0m \u001b[31m?\u001b[0m eta \u001b[36m-:--:--\u001b[0m\r\u001b[2K     \u001b[90m━━━━━━━━━━━━━━━━━━━━━━━━━━━━━━━━━━━━━━━━\u001b[0m \u001b[32m50.2/50.2 kB\u001b[0m \u001b[31m1.3 MB/s\u001b[0m eta \u001b[36m0:00:00\u001b[0m\n",
            "\u001b[?25hDownloading google_play_scraper-1.2.7-py3-none-any.whl (28 kB)\n",
            "Installing collected packages: google-play-scraper\n",
            "Successfully installed google-play-scraper-1.2.7\n"
          ]
        }
      ],
      "source": [
        "# Install library yang ingin digunakan\n",
        "!pip install google-play-scraper"
      ]
    },
    {
      "cell_type": "code",
      "source": [
        "# Import Library\n",
        "from google_play_scraper import reviews\n",
        "from google_play_scraper import Sort\n",
        "import pandas as pd"
      ],
      "metadata": {
        "id": "xrZZAzcHOG-t"
      },
      "execution_count": 2,
      "outputs": []
    },
    {
      "cell_type": "markdown",
      "source": [
        "# 2. Scrapping Data dari Google Play Store pada Aplikasi X atau Twitter"
      ],
      "metadata": {
        "id": "DmTzOyQxn4Jh"
      }
    },
    {
      "cell_type": "code",
      "source": [
        "# Scrapping Data\n",
        "app_id = \"com.twitter.android\"\n",
        "result, _ = reviews(\n",
        "    app_id,\n",
        "    lang='id',\n",
        "    country='id',\n",
        "    count=10000,\n",
        "    sort=Sort.NEWEST\n",
        ")\n",
        "df = pd.DataFrame(result)[['content', 'score']]\n",
        "df.rename(columns={'content': 'review', 'score': 'sentiment'}, inplace=True)"
      ],
      "metadata": {
        "id": "tkLpGHtDbBx_"
      },
      "execution_count": 3,
      "outputs": []
    },
    {
      "cell_type": "markdown",
      "source": [
        "# 3. Export Hasil Scrapping Data"
      ],
      "metadata": {
        "id": "URbRT15eoA5v"
      }
    },
    {
      "cell_type": "code",
      "source": [
        "df.to_csv(\"playstore_reviews.csv\", index=False)\n",
        "print(f\"Dataset disimpan sebagai playstore_reviews.csv dengan {len(df)} data.\")"
      ],
      "metadata": {
        "colab": {
          "base_uri": "https://localhost:8080/"
        },
        "id": "MbLjTBWinInJ",
        "outputId": "aafbcba6-8297-4594-91d4-bd5ff8b627f6"
      },
      "execution_count": 4,
      "outputs": [
        {
          "output_type": "stream",
          "name": "stdout",
          "text": [
            "Dataset disimpan sebagai playstore_reviews.csv dengan 10000 data.\n"
          ]
        }
      ]
    }
  ]
}