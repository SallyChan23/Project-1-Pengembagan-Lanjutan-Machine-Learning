{
  "nbformat": 4,
  "nbformat_minor": 0,
  "metadata": {
    "colab": {
      "provenance": [],
      "gpuType": "T4"
    },
    "kernelspec": {
      "name": "python3",
      "display_name": "Python 3"
    },
    "language_info": {
      "name": "python"
    },
    "accelerator": "GPU"
  },
  "cells": [
    {
      "cell_type": "markdown",
      "source": [
        "# 1. Import dan Install Library"
      ],
      "metadata": {
        "id": "UZvFKTNPny1W"
      }
    },
    {
      "cell_type": "code",
      "execution_count": 1,
      "metadata": {
        "colab": {
          "base_uri": "https://localhost:8080/"
        },
        "id": "jZyNOwhpKZze",
        "outputId": "9a4b468b-737f-4fef-8489-1bae8db7faf5"
      },
      "outputs": [
        {
          "output_type": "stream",
          "name": "stdout",
          "text": [
            "Collecting google-play-scraper\n",
            "  Downloading google_play_scraper-1.2.7-py3-none-any.whl.metadata (50 kB)\n",
            "\u001b[?25l     \u001b[90m━━━━━━━━━━━━━━━━━━━━━━━━━━━━━━━━━━━━━━━━\u001b[0m \u001b[32m0.0/50.2 kB\u001b[0m \u001b[31m?\u001b[0m eta \u001b[36m-:--:--\u001b[0m\r\u001b[2K     \u001b[90m━━━━━━━━━━━━━━━━━━━━━━━━━━━━━━━━━━━━━━━━\u001b[0m \u001b[32m50.2/50.2 kB\u001b[0m \u001b[31m1.8 MB/s\u001b[0m eta \u001b[36m0:00:00\u001b[0m\n",
            "\u001b[?25hDownloading google_play_scraper-1.2.7-py3-none-any.whl (28 kB)\n",
            "Installing collected packages: google-play-scraper\n",
            "Successfully installed google-play-scraper-1.2.7\n"
          ]
        }
      ],
      "source": [
        "# Install library yang ingin digunakan\n",
        "!pip install google-play-scraper"
      ]
    },
    {
      "cell_type": "code",
      "source": [
        "# Import Library\n",
        "from google_play_scraper import reviews\n",
        "from google_play_scraper import Sort\n",
        "import pandas as pd"
      ],
      "metadata": {
        "id": "xrZZAzcHOG-t"
      },
      "execution_count": 4,
      "outputs": []
    },
    {
      "cell_type": "markdown",
      "source": [
        "# 2. Scrapping Data dari Google Play Store pada Aplikasi X atau Twitter"
      ],
      "metadata": {
        "id": "DmTzOyQxn4Jh"
      }
    },
    {
      "cell_type": "code",
      "source": [
        "# Scrapping Data\n",
        "app_id = \"com.twitter.android\"\n",
        "result, _ = reviews(\n",
        "    app_id,\n",
        "    lang='id',\n",
        "    country='id',\n",
        "    count=10000,\n",
        "    sort=Sort.NEWEST\n",
        ")\n",
        "df = pd.DataFrame(result)[['content', 'score']]\n",
        "df.rename(columns={'content': 'review', 'score': 'sentiment'}, inplace=True)\n",
        "\n",
        "def label_sentiment(score):\n",
        "    if score >= 4:\n",
        "        return \"positif\"\n",
        "    elif score == 3:\n",
        "        return \"netral\"\n",
        "    else:\n",
        "        return \"negatif\"\n",
        "df['sentiment'] = df['sentiment'].apply(label_sentiment)"
      ],
      "metadata": {
        "id": "tkLpGHtDbBx_"
      },
      "execution_count": 5,
      "outputs": []
    },
    {
      "cell_type": "markdown",
      "source": [
        "# 3. Export Hasil Scrapping Data"
      ],
      "metadata": {
        "id": "URbRT15eoA5v"
      }
    },
    {
      "cell_type": "code",
      "source": [
        "df.to_csv(\"playstore_reviews.csv\", index=False)\n",
        "print(f\"Dataset disimpan sebagai playstore_reviews.csv dengan {len(df)} data.\")"
      ],
      "metadata": {
        "colab": {
          "base_uri": "https://localhost:8080/"
        },
        "id": "MbLjTBWinInJ",
        "outputId": "b5cf9f03-ebdc-4c8e-9c97-479966bce87e"
      },
      "execution_count": 6,
      "outputs": [
        {
          "output_type": "stream",
          "name": "stdout",
          "text": [
            "Dataset disimpan sebagai playstore_reviews.csv dengan 10000 data.\n"
          ]
        }
      ]
    }
  ]
}